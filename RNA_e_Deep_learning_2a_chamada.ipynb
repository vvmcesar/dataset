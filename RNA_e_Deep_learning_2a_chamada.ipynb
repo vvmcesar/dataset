{
  "nbformat": 4,
  "nbformat_minor": 0,
  "metadata": {
    "colab": {
      "provenance": [],
      "authorship_tag": "ABX9TyOq3STOS2d7o3/hoPN7DAcm",
      "include_colab_link": true
    },
    "kernelspec": {
      "name": "python3",
      "display_name": "Python 3"
    },
    "language_info": {
      "name": "python"
    }
  },
  "cells": [
    {
      "cell_type": "markdown",
      "metadata": {
        "id": "view-in-github",
        "colab_type": "text"
      },
      "source": [
        "<a href=\"https://colab.research.google.com/github/vvmcesar/dataset/blob/main/RNA_e_Deep_learning_2a_chamada.ipynb\" target=\"_parent\"><img src=\"https://colab.research.google.com/assets/colab-badge.svg\" alt=\"Open In Colab\"/></a>"
      ]
    },
    {
      "cell_type": "code",
      "source": [
        "!pip install roboflow"
      ],
      "metadata": {
        "id": "ajPsCW3zlZhM"
      },
      "execution_count": null,
      "outputs": []
    },
    {
      "cell_type": "code",
      "execution_count": null,
      "metadata": {
        "id": "oQqAIJAslUVK"
      },
      "outputs": [],
      "source": [
        "from roboflow import Roboflow\n",
        "rf = Roboflow(api_key=\"t3THKdcOFMITLCn8OIVJ\")\n",
        "project = rf.workspace(\"vascmen98\").project(\"times-de-pernambuco\")\n",
        "dataset = project.version(2).download(\"yolov5\")"
      ]
    },
    {
      "cell_type": "code",
      "source": [
        "import os\n",
        "import pandas as pd\n",
        "import numpy as np\n",
        "import tensorflow as tf\n",
        "from tensorflow.keras.preprocessing.image import ImageDataGenerator\n",
        "from tensorflow.keras.models import Sequential\n",
        "from tensorflow.keras.layers import Conv2D, MaxPooling2D, Flatten, Dense"
      ],
      "metadata": {
        "id": "qx5CL-8xll1o"
      },
      "execution_count": 31,
      "outputs": []
    },
    {
      "cell_type": "code",
      "source": [
        "from google.colab import files\n",
        "\n",
        "uploaded = files.upload()"
      ],
      "metadata": {
        "colab": {
          "base_uri": "https://localhost:8080/",
          "height": 73
        },
        "id": "BQ4APDHbup4t",
        "outputId": "c0f4c260-1773-4582-e4c3-60d615667688"
      },
      "execution_count": 37,
      "outputs": [
        {
          "output_type": "display_data",
          "data": {
            "text/plain": [
              "<IPython.core.display.HTML object>"
            ],
            "text/html": [
              "\n",
              "     <input type=\"file\" id=\"files-74486d90-4ff0-4856-9196-bb4e09361013\" name=\"files[]\" multiple disabled\n",
              "        style=\"border:none\" />\n",
              "     <output id=\"result-74486d90-4ff0-4856-9196-bb4e09361013\">\n",
              "      Upload widget is only available when the cell has been executed in the\n",
              "      current browser session. Please rerun this cell to enable.\n",
              "      </output>\n",
              "      <script>// Copyright 2017 Google LLC\n",
              "//\n",
              "// Licensed under the Apache License, Version 2.0 (the \"License\");\n",
              "// you may not use this file except in compliance with the License.\n",
              "// You may obtain a copy of the License at\n",
              "//\n",
              "//      http://www.apache.org/licenses/LICENSE-2.0\n",
              "//\n",
              "// Unless required by applicable law or agreed to in writing, software\n",
              "// distributed under the License is distributed on an \"AS IS\" BASIS,\n",
              "// WITHOUT WARRANTIES OR CONDITIONS OF ANY KIND, either express or implied.\n",
              "// See the License for the specific language governing permissions and\n",
              "// limitations under the License.\n",
              "\n",
              "/**\n",
              " * @fileoverview Helpers for google.colab Python module.\n",
              " */\n",
              "(function(scope) {\n",
              "function span(text, styleAttributes = {}) {\n",
              "  const element = document.createElement('span');\n",
              "  element.textContent = text;\n",
              "  for (const key of Object.keys(styleAttributes)) {\n",
              "    element.style[key] = styleAttributes[key];\n",
              "  }\n",
              "  return element;\n",
              "}\n",
              "\n",
              "// Max number of bytes which will be uploaded at a time.\n",
              "const MAX_PAYLOAD_SIZE = 100 * 1024;\n",
              "\n",
              "function _uploadFiles(inputId, outputId) {\n",
              "  const steps = uploadFilesStep(inputId, outputId);\n",
              "  const outputElement = document.getElementById(outputId);\n",
              "  // Cache steps on the outputElement to make it available for the next call\n",
              "  // to uploadFilesContinue from Python.\n",
              "  outputElement.steps = steps;\n",
              "\n",
              "  return _uploadFilesContinue(outputId);\n",
              "}\n",
              "\n",
              "// This is roughly an async generator (not supported in the browser yet),\n",
              "// where there are multiple asynchronous steps and the Python side is going\n",
              "// to poll for completion of each step.\n",
              "// This uses a Promise to block the python side on completion of each step,\n",
              "// then passes the result of the previous step as the input to the next step.\n",
              "function _uploadFilesContinue(outputId) {\n",
              "  const outputElement = document.getElementById(outputId);\n",
              "  const steps = outputElement.steps;\n",
              "\n",
              "  const next = steps.next(outputElement.lastPromiseValue);\n",
              "  return Promise.resolve(next.value.promise).then((value) => {\n",
              "    // Cache the last promise value to make it available to the next\n",
              "    // step of the generator.\n",
              "    outputElement.lastPromiseValue = value;\n",
              "    return next.value.response;\n",
              "  });\n",
              "}\n",
              "\n",
              "/**\n",
              " * Generator function which is called between each async step of the upload\n",
              " * process.\n",
              " * @param {string} inputId Element ID of the input file picker element.\n",
              " * @param {string} outputId Element ID of the output display.\n",
              " * @return {!Iterable<!Object>} Iterable of next steps.\n",
              " */\n",
              "function* uploadFilesStep(inputId, outputId) {\n",
              "  const inputElement = document.getElementById(inputId);\n",
              "  inputElement.disabled = false;\n",
              "\n",
              "  const outputElement = document.getElementById(outputId);\n",
              "  outputElement.innerHTML = '';\n",
              "\n",
              "  const pickedPromise = new Promise((resolve) => {\n",
              "    inputElement.addEventListener('change', (e) => {\n",
              "      resolve(e.target.files);\n",
              "    });\n",
              "  });\n",
              "\n",
              "  const cancel = document.createElement('button');\n",
              "  inputElement.parentElement.appendChild(cancel);\n",
              "  cancel.textContent = 'Cancel upload';\n",
              "  const cancelPromise = new Promise((resolve) => {\n",
              "    cancel.onclick = () => {\n",
              "      resolve(null);\n",
              "    };\n",
              "  });\n",
              "\n",
              "  // Wait for the user to pick the files.\n",
              "  const files = yield {\n",
              "    promise: Promise.race([pickedPromise, cancelPromise]),\n",
              "    response: {\n",
              "      action: 'starting',\n",
              "    }\n",
              "  };\n",
              "\n",
              "  cancel.remove();\n",
              "\n",
              "  // Disable the input element since further picks are not allowed.\n",
              "  inputElement.disabled = true;\n",
              "\n",
              "  if (!files) {\n",
              "    return {\n",
              "      response: {\n",
              "        action: 'complete',\n",
              "      }\n",
              "    };\n",
              "  }\n",
              "\n",
              "  for (const file of files) {\n",
              "    const li = document.createElement('li');\n",
              "    li.append(span(file.name, {fontWeight: 'bold'}));\n",
              "    li.append(span(\n",
              "        `(${file.type || 'n/a'}) - ${file.size} bytes, ` +\n",
              "        `last modified: ${\n",
              "            file.lastModifiedDate ? file.lastModifiedDate.toLocaleDateString() :\n",
              "                                    'n/a'} - `));\n",
              "    const percent = span('0% done');\n",
              "    li.appendChild(percent);\n",
              "\n",
              "    outputElement.appendChild(li);\n",
              "\n",
              "    const fileDataPromise = new Promise((resolve) => {\n",
              "      const reader = new FileReader();\n",
              "      reader.onload = (e) => {\n",
              "        resolve(e.target.result);\n",
              "      };\n",
              "      reader.readAsArrayBuffer(file);\n",
              "    });\n",
              "    // Wait for the data to be ready.\n",
              "    let fileData = yield {\n",
              "      promise: fileDataPromise,\n",
              "      response: {\n",
              "        action: 'continue',\n",
              "      }\n",
              "    };\n",
              "\n",
              "    // Use a chunked sending to avoid message size limits. See b/62115660.\n",
              "    let position = 0;\n",
              "    do {\n",
              "      const length = Math.min(fileData.byteLength - position, MAX_PAYLOAD_SIZE);\n",
              "      const chunk = new Uint8Array(fileData, position, length);\n",
              "      position += length;\n",
              "\n",
              "      const base64 = btoa(String.fromCharCode.apply(null, chunk));\n",
              "      yield {\n",
              "        response: {\n",
              "          action: 'append',\n",
              "          file: file.name,\n",
              "          data: base64,\n",
              "        },\n",
              "      };\n",
              "\n",
              "      let percentDone = fileData.byteLength === 0 ?\n",
              "          100 :\n",
              "          Math.round((position / fileData.byteLength) * 100);\n",
              "      percent.textContent = `${percentDone}% done`;\n",
              "\n",
              "    } while (position < fileData.byteLength);\n",
              "  }\n",
              "\n",
              "  // All done.\n",
              "  yield {\n",
              "    response: {\n",
              "      action: 'complete',\n",
              "    }\n",
              "  };\n",
              "}\n",
              "\n",
              "scope.google = scope.google || {};\n",
              "scope.google.colab = scope.google.colab || {};\n",
              "scope.google.colab._files = {\n",
              "  _uploadFiles,\n",
              "  _uploadFilesContinue,\n",
              "};\n",
              "})(self);\n",
              "</script> "
            ]
          },
          "metadata": {}
        },
        {
          "output_type": "stream",
          "name": "stdout",
          "text": [
            "Saving Times de pernambuco.zip to Times de pernambuco.zip\n"
          ]
        }
      ]
    },
    {
      "cell_type": "code",
      "source": [
        "import zipfile\n",
        "import os\n",
        "\n",
        "zip_path = 'Times de pernambuco.zip'\n",
        "extract_path = 'Times de pernambuco'\n",
        "\n",
        "with zipfile.ZipFile(zip_path, 'r') as zip_ref:\n",
        "    zip_ref.extractall(extract_path)"
      ],
      "metadata": {
        "id": "b1oPUUtUv2n9"
      },
      "execution_count": 40,
      "outputs": []
    },
    {
      "cell_type": "code",
      "source": [
        "train_dir = '/content/Times de pernambuco/Times de pernambuco/train'\n",
        "test_dir = '/content/Times de pernambuco/Times de pernambuco/test'"
      ],
      "metadata": {
        "id": "pgqUl0rblo09"
      },
      "execution_count": 41,
      "outputs": []
    },
    {
      "cell_type": "code",
      "source": [
        "train_datagen = ImageDataGenerator(rescale=1./255)\n",
        "\n",
        "train_generator = train_datagen.flow_from_directory(\n",
        "    train_dir,\n",
        "    target_size=(150, 150),\n",
        "    batch_size=32,\n",
        "    class_mode='categorical'\n",
        ")\n",
        "\n",
        "test_datagen = ImageDataGenerator(rescale=1./255)\n",
        "\n",
        "test_generator = test_datagen.flow_from_directory(\n",
        "    test_dir,\n",
        "    target_size=(150, 150),\n",
        "    batch_size=32,\n",
        "    class_mode='categorical'\n",
        ")"
      ],
      "metadata": {
        "colab": {
          "base_uri": "https://localhost:8080/"
        },
        "id": "XrcNUaJzluh5",
        "outputId": "da04f4d4-38ba-4066-8b04-0473a4203dac"
      },
      "execution_count": 46,
      "outputs": [
        {
          "output_type": "stream",
          "name": "stdout",
          "text": [
            "Found 74 images belonging to 3 classes.\n",
            "Found 21 images belonging to 3 classes.\n"
          ]
        }
      ]
    },
    {
      "cell_type": "code",
      "source": [
        "model = Sequential()\n",
        "\n",
        "model.add(Conv2D(32, (3, 3), activation='relu', input_shape=(150, 150, 3)))\n",
        "model.add(MaxPooling2D(2, 2))\n",
        "\n",
        "model.add(Conv2D(64, (3, 3), activation='relu'))\n",
        "model.add(MaxPooling2D(2, 2))\n",
        "\n",
        "model.add(Conv2D(128, (3, 3), activation='relu'))\n",
        "model.add(MaxPooling2D(2, 2))\n",
        "\n",
        "model.add(Flatten())\n",
        "\n",
        "model.add(Dense(512, activation='relu'))\n",
        "model.add(Dense(3, activation='softmax'))\n",
        "\n",
        "model.compile(optimizer='adam', loss='categorical_crossentropy', metrics=['accuracy'])"
      ],
      "metadata": {
        "id": "8meAi85mlxIg"
      },
      "execution_count": 47,
      "outputs": []
    },
    {
      "cell_type": "code",
      "source": [
        "model.fit(train_generator, epochs=100, validation_data=test_generator)"
      ],
      "metadata": {
        "colab": {
          "base_uri": "https://localhost:8080/"
        },
        "id": "5eJ2BOopl0Lb",
        "outputId": "5e339b67-bfde-409e-e344-f8824feab7f3"
      },
      "execution_count": 48,
      "outputs": [
        {
          "output_type": "stream",
          "name": "stdout",
          "text": [
            "Epoch 1/100\n",
            "3/3 [==============================] - 7s 3s/step - loss: 5.0067 - accuracy: 0.2973 - val_loss: 2.2278 - val_accuracy: 0.2381\n",
            "Epoch 2/100\n",
            "3/3 [==============================] - 5s 1s/step - loss: 1.3870 - accuracy: 0.3649 - val_loss: 1.0613 - val_accuracy: 0.4286\n",
            "Epoch 3/100\n",
            "3/3 [==============================] - 6s 2s/step - loss: 1.0601 - accuracy: 0.4324 - val_loss: 1.1072 - val_accuracy: 0.3810\n",
            "Epoch 4/100\n",
            "3/3 [==============================] - 5s 1s/step - loss: 0.9581 - accuracy: 0.5270 - val_loss: 1.0420 - val_accuracy: 0.3810\n",
            "Epoch 5/100\n",
            "3/3 [==============================] - 4s 1s/step - loss: 0.8371 - accuracy: 0.5270 - val_loss: 1.1195 - val_accuracy: 0.4762\n",
            "Epoch 6/100\n",
            "3/3 [==============================] - 7s 2s/step - loss: 0.6914 - accuracy: 0.8108 - val_loss: 0.8924 - val_accuracy: 0.6667\n",
            "Epoch 7/100\n",
            "3/3 [==============================] - 4s 1s/step - loss: 0.4231 - accuracy: 0.9459 - val_loss: 0.7468 - val_accuracy: 0.6667\n",
            "Epoch 8/100\n",
            "3/3 [==============================] - 5s 1s/step - loss: 0.2439 - accuracy: 0.9595 - val_loss: 0.6122 - val_accuracy: 0.7143\n",
            "Epoch 9/100\n",
            "3/3 [==============================] - 6s 2s/step - loss: 0.2148 - accuracy: 0.9189 - val_loss: 1.2933 - val_accuracy: 0.6667\n",
            "Epoch 10/100\n",
            "3/3 [==============================] - 4s 2s/step - loss: 0.3763 - accuracy: 0.8649 - val_loss: 1.1099 - val_accuracy: 0.5238\n",
            "Epoch 11/100\n",
            "3/3 [==============================] - 6s 3s/step - loss: 0.2897 - accuracy: 0.8919 - val_loss: 0.8914 - val_accuracy: 0.5714\n",
            "Epoch 12/100\n",
            "3/3 [==============================] - 4s 1s/step - loss: 0.1464 - accuracy: 0.9595 - val_loss: 1.1008 - val_accuracy: 0.5714\n",
            "Epoch 13/100\n",
            "3/3 [==============================] - 6s 2s/step - loss: 0.1709 - accuracy: 0.9595 - val_loss: 0.7309 - val_accuracy: 0.7619\n",
            "Epoch 14/100\n",
            "3/3 [==============================] - 4s 1s/step - loss: 0.0649 - accuracy: 1.0000 - val_loss: 1.1357 - val_accuracy: 0.7143\n",
            "Epoch 15/100\n",
            "3/3 [==============================] - 5s 1s/step - loss: 0.0500 - accuracy: 1.0000 - val_loss: 1.3895 - val_accuracy: 0.7619\n",
            "Epoch 16/100\n",
            "3/3 [==============================] - 6s 1s/step - loss: 0.0184 - accuracy: 1.0000 - val_loss: 1.2288 - val_accuracy: 0.7143\n",
            "Epoch 17/100\n",
            "3/3 [==============================] - 4s 1s/step - loss: 0.0117 - accuracy: 1.0000 - val_loss: 1.0301 - val_accuracy: 0.7143\n",
            "Epoch 18/100\n",
            "3/3 [==============================] - 4s 1s/step - loss: 0.0076 - accuracy: 1.0000 - val_loss: 1.1881 - val_accuracy: 0.7619\n",
            "Epoch 19/100\n",
            "3/3 [==============================] - 6s 1s/step - loss: 0.0022 - accuracy: 1.0000 - val_loss: 1.4120 - val_accuracy: 0.7143\n",
            "Epoch 20/100\n",
            "3/3 [==============================] - 5s 2s/step - loss: 0.0010 - accuracy: 1.0000 - val_loss: 1.6139 - val_accuracy: 0.6667\n",
            "Epoch 21/100\n",
            "3/3 [==============================] - 6s 2s/step - loss: 0.0011 - accuracy: 1.0000 - val_loss: 1.7322 - val_accuracy: 0.7143\n",
            "Epoch 22/100\n",
            "3/3 [==============================] - 4s 1s/step - loss: 6.9302e-04 - accuracy: 1.0000 - val_loss: 1.5576 - val_accuracy: 0.7143\n",
            "Epoch 23/100\n",
            "3/3 [==============================] - 6s 2s/step - loss: 2.8747e-04 - accuracy: 1.0000 - val_loss: 1.3971 - val_accuracy: 0.7143\n",
            "Epoch 24/100\n",
            "3/3 [==============================] - 5s 1s/step - loss: 2.2870e-04 - accuracy: 1.0000 - val_loss: 1.2605 - val_accuracy: 0.7143\n",
            "Epoch 25/100\n",
            "3/3 [==============================] - 6s 2s/step - loss: 2.2097e-04 - accuracy: 1.0000 - val_loss: 1.2498 - val_accuracy: 0.7143\n",
            "Epoch 26/100\n",
            "3/3 [==============================] - 5s 2s/step - loss: 1.8798e-04 - accuracy: 1.0000 - val_loss: 1.2592 - val_accuracy: 0.7143\n",
            "Epoch 27/100\n",
            "3/3 [==============================] - 6s 3s/step - loss: 1.5771e-04 - accuracy: 1.0000 - val_loss: 1.2977 - val_accuracy: 0.7619\n",
            "Epoch 28/100\n",
            "3/3 [==============================] - 5s 1s/step - loss: 1.3761e-04 - accuracy: 1.0000 - val_loss: 1.3448 - val_accuracy: 0.8095\n",
            "Epoch 29/100\n",
            "3/3 [==============================] - 6s 2s/step - loss: 1.2380e-04 - accuracy: 1.0000 - val_loss: 1.3905 - val_accuracy: 0.8095\n",
            "Epoch 30/100\n",
            "3/3 [==============================] - 5s 2s/step - loss: 1.2843e-04 - accuracy: 1.0000 - val_loss: 1.4233 - val_accuracy: 0.8095\n",
            "Epoch 31/100\n",
            "3/3 [==============================] - 5s 1s/step - loss: 1.1338e-04 - accuracy: 1.0000 - val_loss: 1.4446 - val_accuracy: 0.7619\n",
            "Epoch 32/100\n",
            "3/3 [==============================] - 6s 3s/step - loss: 9.1558e-05 - accuracy: 1.0000 - val_loss: 1.4643 - val_accuracy: 0.7619\n",
            "Epoch 33/100\n",
            "3/3 [==============================] - 5s 1s/step - loss: 8.9716e-05 - accuracy: 1.0000 - val_loss: 1.4748 - val_accuracy: 0.7619\n",
            "Epoch 34/100\n",
            "3/3 [==============================] - 7s 3s/step - loss: 8.0554e-05 - accuracy: 1.0000 - val_loss: 1.4816 - val_accuracy: 0.7619\n",
            "Epoch 35/100\n",
            "3/3 [==============================] - 4s 1s/step - loss: 7.5382e-05 - accuracy: 1.0000 - val_loss: 1.4865 - val_accuracy: 0.7619\n",
            "Epoch 36/100\n",
            "3/3 [==============================] - 4s 2s/step - loss: 7.1625e-05 - accuracy: 1.0000 - val_loss: 1.4895 - val_accuracy: 0.7619\n",
            "Epoch 37/100\n",
            "3/3 [==============================] - 7s 2s/step - loss: 6.8674e-05 - accuracy: 1.0000 - val_loss: 1.4916 - val_accuracy: 0.7619\n",
            "Epoch 38/100\n",
            "3/3 [==============================] - 4s 1s/step - loss: 6.3914e-05 - accuracy: 1.0000 - val_loss: 1.4942 - val_accuracy: 0.7619\n",
            "Epoch 39/100\n",
            "3/3 [==============================] - 4s 2s/step - loss: 6.0722e-05 - accuracy: 1.0000 - val_loss: 1.4970 - val_accuracy: 0.7619\n",
            "Epoch 40/100\n",
            "3/3 [==============================] - 6s 1s/step - loss: 5.8189e-05 - accuracy: 1.0000 - val_loss: 1.5008 - val_accuracy: 0.7619\n",
            "Epoch 41/100\n",
            "3/3 [==============================] - 4s 1s/step - loss: 5.5496e-05 - accuracy: 1.0000 - val_loss: 1.5060 - val_accuracy: 0.7619\n",
            "Epoch 42/100\n",
            "3/3 [==============================] - 4s 1s/step - loss: 5.3852e-05 - accuracy: 1.0000 - val_loss: 1.5104 - val_accuracy: 0.7619\n",
            "Epoch 43/100\n",
            "3/3 [==============================] - 6s 2s/step - loss: 5.1734e-05 - accuracy: 1.0000 - val_loss: 1.5113 - val_accuracy: 0.7619\n",
            "Epoch 44/100\n",
            "3/3 [==============================] - 5s 1s/step - loss: 5.0230e-05 - accuracy: 1.0000 - val_loss: 1.5131 - val_accuracy: 0.7619\n",
            "Epoch 45/100\n",
            "3/3 [==============================] - 6s 2s/step - loss: 4.8576e-05 - accuracy: 1.0000 - val_loss: 1.5137 - val_accuracy: 0.7143\n",
            "Epoch 46/100\n",
            "3/3 [==============================] - 5s 2s/step - loss: 4.7031e-05 - accuracy: 1.0000 - val_loss: 1.5153 - val_accuracy: 0.7143\n",
            "Epoch 47/100\n",
            "3/3 [==============================] - 5s 2s/step - loss: 4.5332e-05 - accuracy: 1.0000 - val_loss: 1.5167 - val_accuracy: 0.7143\n",
            "Epoch 48/100\n",
            "3/3 [==============================] - 5s 1s/step - loss: 4.4084e-05 - accuracy: 1.0000 - val_loss: 1.5198 - val_accuracy: 0.7143\n",
            "Epoch 49/100\n",
            "3/3 [==============================] - 6s 2s/step - loss: 4.2998e-05 - accuracy: 1.0000 - val_loss: 1.5246 - val_accuracy: 0.7143\n",
            "Epoch 50/100\n",
            "3/3 [==============================] - 5s 1s/step - loss: 4.1703e-05 - accuracy: 1.0000 - val_loss: 1.5302 - val_accuracy: 0.7143\n",
            "Epoch 51/100\n",
            "3/3 [==============================] - 5s 1s/step - loss: 4.0434e-05 - accuracy: 1.0000 - val_loss: 1.5358 - val_accuracy: 0.7143\n",
            "Epoch 52/100\n",
            "3/3 [==============================] - 6s 2s/step - loss: 3.9279e-05 - accuracy: 1.0000 - val_loss: 1.5425 - val_accuracy: 0.7143\n",
            "Epoch 53/100\n",
            "3/3 [==============================] - 5s 1s/step - loss: 3.8277e-05 - accuracy: 1.0000 - val_loss: 1.5502 - val_accuracy: 0.7143\n",
            "Epoch 54/100\n",
            "3/3 [==============================] - 6s 3s/step - loss: 3.7573e-05 - accuracy: 1.0000 - val_loss: 1.5602 - val_accuracy: 0.7143\n",
            "Epoch 55/100\n",
            "3/3 [==============================] - 5s 2s/step - loss: 3.6483e-05 - accuracy: 1.0000 - val_loss: 1.5693 - val_accuracy: 0.7619\n",
            "Epoch 56/100\n",
            "3/3 [==============================] - 4s 1s/step - loss: 3.5739e-05 - accuracy: 1.0000 - val_loss: 1.5733 - val_accuracy: 0.7143\n",
            "Epoch 57/100\n",
            "3/3 [==============================] - 6s 2s/step - loss: 3.4685e-05 - accuracy: 1.0000 - val_loss: 1.5761 - val_accuracy: 0.7143\n",
            "Epoch 58/100\n",
            "3/3 [==============================] - 4s 1s/step - loss: 3.3381e-05 - accuracy: 1.0000 - val_loss: 1.5796 - val_accuracy: 0.7143\n",
            "Epoch 59/100\n",
            "3/3 [==============================] - 6s 3s/step - loss: 3.2480e-05 - accuracy: 1.0000 - val_loss: 1.5850 - val_accuracy: 0.7143\n",
            "Epoch 60/100\n",
            "3/3 [==============================] - 4s 2s/step - loss: 3.1693e-05 - accuracy: 1.0000 - val_loss: 1.5907 - val_accuracy: 0.7143\n",
            "Epoch 61/100\n",
            "3/3 [==============================] - 4s 2s/step - loss: 3.0834e-05 - accuracy: 1.0000 - val_loss: 1.5940 - val_accuracy: 0.7143\n",
            "Epoch 62/100\n",
            "3/3 [==============================] - 6s 2s/step - loss: 2.9884e-05 - accuracy: 1.0000 - val_loss: 1.5969 - val_accuracy: 0.7143\n",
            "Epoch 63/100\n",
            "3/3 [==============================] - 5s 1s/step - loss: 2.9391e-05 - accuracy: 1.0000 - val_loss: 1.5991 - val_accuracy: 0.7143\n",
            "Epoch 64/100\n",
            "3/3 [==============================] - 5s 1s/step - loss: 2.8468e-05 - accuracy: 1.0000 - val_loss: 1.5997 - val_accuracy: 0.7143\n",
            "Epoch 65/100\n",
            "3/3 [==============================] - 7s 2s/step - loss: 2.7856e-05 - accuracy: 1.0000 - val_loss: 1.5993 - val_accuracy: 0.7143\n",
            "Epoch 66/100\n",
            "3/3 [==============================] - 4s 1s/step - loss: 2.7046e-05 - accuracy: 1.0000 - val_loss: 1.6000 - val_accuracy: 0.7143\n",
            "Epoch 67/100\n",
            "3/3 [==============================] - 5s 1s/step - loss: 2.6286e-05 - accuracy: 1.0000 - val_loss: 1.6026 - val_accuracy: 0.7143\n",
            "Epoch 68/100\n",
            "3/3 [==============================] - 6s 2s/step - loss: 2.5646e-05 - accuracy: 1.0000 - val_loss: 1.6062 - val_accuracy: 0.7143\n",
            "Epoch 69/100\n",
            "3/3 [==============================] - 5s 1s/step - loss: 2.4949e-05 - accuracy: 1.0000 - val_loss: 1.6102 - val_accuracy: 0.7143\n",
            "Epoch 70/100\n",
            "3/3 [==============================] - 6s 2s/step - loss: 2.4184e-05 - accuracy: 1.0000 - val_loss: 1.6136 - val_accuracy: 0.7143\n",
            "Epoch 71/100\n",
            "3/3 [==============================] - 5s 1s/step - loss: 2.3472e-05 - accuracy: 1.0000 - val_loss: 1.6170 - val_accuracy: 0.7143\n",
            "Epoch 72/100\n",
            "3/3 [==============================] - 7s 2s/step - loss: 2.3204e-05 - accuracy: 1.0000 - val_loss: 1.6205 - val_accuracy: 0.7143\n",
            "Epoch 73/100\n",
            "3/3 [==============================] - 5s 1s/step - loss: 2.2362e-05 - accuracy: 1.0000 - val_loss: 1.6220 - val_accuracy: 0.7143\n",
            "Epoch 74/100\n",
            "3/3 [==============================] - 7s 2s/step - loss: 2.1912e-05 - accuracy: 1.0000 - val_loss: 1.6237 - val_accuracy: 0.7143\n",
            "Epoch 75/100\n",
            "3/3 [==============================] - 6s 2s/step - loss: 2.1188e-05 - accuracy: 1.0000 - val_loss: 1.6260 - val_accuracy: 0.7143\n",
            "Epoch 76/100\n",
            "3/3 [==============================] - 5s 2s/step - loss: 2.0622e-05 - accuracy: 1.0000 - val_loss: 1.6288 - val_accuracy: 0.7143\n",
            "Epoch 77/100\n",
            "3/3 [==============================] - 7s 2s/step - loss: 2.0059e-05 - accuracy: 1.0000 - val_loss: 1.6323 - val_accuracy: 0.7143\n",
            "Epoch 78/100\n",
            "3/3 [==============================] - 5s 2s/step - loss: 1.9477e-05 - accuracy: 1.0000 - val_loss: 1.6378 - val_accuracy: 0.7143\n",
            "Epoch 79/100\n",
            "3/3 [==============================] - 7s 2s/step - loss: 1.8970e-05 - accuracy: 1.0000 - val_loss: 1.6404 - val_accuracy: 0.7143\n",
            "Epoch 80/100\n",
            "3/3 [==============================] - 5s 2s/step - loss: 1.8387e-05 - accuracy: 1.0000 - val_loss: 1.6438 - val_accuracy: 0.7143\n",
            "Epoch 81/100\n",
            "3/3 [==============================] - 6s 2s/step - loss: 1.7966e-05 - accuracy: 1.0000 - val_loss: 1.6458 - val_accuracy: 0.7143\n",
            "Epoch 82/100\n",
            "3/3 [==============================] - 12s 3s/step - loss: 1.7570e-05 - accuracy: 1.0000 - val_loss: 1.6477 - val_accuracy: 0.7143\n",
            "Epoch 83/100\n",
            "3/3 [==============================] - 5s 2s/step - loss: 1.7130e-05 - accuracy: 1.0000 - val_loss: 1.6507 - val_accuracy: 0.7143\n",
            "Epoch 84/100\n",
            "3/3 [==============================] - 7s 2s/step - loss: 1.6752e-05 - accuracy: 1.0000 - val_loss: 1.6544 - val_accuracy: 0.7143\n",
            "Epoch 85/100\n",
            "3/3 [==============================] - 5s 1s/step - loss: 1.6445e-05 - accuracy: 1.0000 - val_loss: 1.6579 - val_accuracy: 0.7143\n",
            "Epoch 86/100\n",
            "3/3 [==============================] - 7s 3s/step - loss: 1.6064e-05 - accuracy: 1.0000 - val_loss: 1.6613 - val_accuracy: 0.7143\n",
            "Epoch 87/100\n",
            "3/3 [==============================] - 5s 1s/step - loss: 1.5861e-05 - accuracy: 1.0000 - val_loss: 1.6647 - val_accuracy: 0.7143\n",
            "Epoch 88/100\n",
            "3/3 [==============================] - 7s 2s/step - loss: 1.5453e-05 - accuracy: 1.0000 - val_loss: 1.6693 - val_accuracy: 0.7143\n",
            "Epoch 89/100\n",
            "3/3 [==============================] - 5s 1s/step - loss: 1.5155e-05 - accuracy: 1.0000 - val_loss: 1.6713 - val_accuracy: 0.7143\n",
            "Epoch 90/100\n",
            "3/3 [==============================] - 5s 2s/step - loss: 1.4786e-05 - accuracy: 1.0000 - val_loss: 1.6733 - val_accuracy: 0.7143\n",
            "Epoch 91/100\n",
            "3/3 [==============================] - 7s 2s/step - loss: 1.4548e-05 - accuracy: 1.0000 - val_loss: 1.6758 - val_accuracy: 0.7143\n",
            "Epoch 92/100\n",
            "3/3 [==============================] - 5s 1s/step - loss: 1.4237e-05 - accuracy: 1.0000 - val_loss: 1.6769 - val_accuracy: 0.7143\n",
            "Epoch 93/100\n",
            "3/3 [==============================] - 7s 2s/step - loss: 1.4003e-05 - accuracy: 1.0000 - val_loss: 1.6785 - val_accuracy: 0.7143\n",
            "Epoch 94/100\n",
            "3/3 [==============================] - 6s 1s/step - loss: 1.3783e-05 - accuracy: 1.0000 - val_loss: 1.6804 - val_accuracy: 0.7143\n",
            "Epoch 95/100\n",
            "3/3 [==============================] - 5s 1s/step - loss: 1.3467e-05 - accuracy: 1.0000 - val_loss: 1.6843 - val_accuracy: 0.7143\n",
            "Epoch 96/100\n",
            "3/3 [==============================] - 7s 2s/step - loss: 1.3233e-05 - accuracy: 1.0000 - val_loss: 1.6878 - val_accuracy: 0.7143\n",
            "Epoch 97/100\n",
            "3/3 [==============================] - 5s 2s/step - loss: 1.3026e-05 - accuracy: 1.0000 - val_loss: 1.6921 - val_accuracy: 0.7143\n",
            "Epoch 98/100\n",
            "3/3 [==============================] - 7s 2s/step - loss: 1.2789e-05 - accuracy: 1.0000 - val_loss: 1.6954 - val_accuracy: 0.7143\n",
            "Epoch 99/100\n",
            "3/3 [==============================] - 5s 1s/step - loss: 1.2531e-05 - accuracy: 1.0000 - val_loss: 1.6971 - val_accuracy: 0.7143\n",
            "Epoch 100/100\n",
            "3/3 [==============================] - 7s 2s/step - loss: 1.2331e-05 - accuracy: 1.0000 - val_loss: 1.7000 - val_accuracy: 0.7143\n"
          ]
        },
        {
          "output_type": "execute_result",
          "data": {
            "text/plain": [
              "<keras.src.callbacks.History at 0x7fb032070fa0>"
            ]
          },
          "metadata": {},
          "execution_count": 48
        }
      ]
    },
    {
      "cell_type": "code",
      "source": [
        "model.evaluate(test_generator)"
      ],
      "metadata": {
        "colab": {
          "base_uri": "https://localhost:8080/"
        },
        "id": "wvP29T_ppABs",
        "outputId": "8aea1371-0306-43a2-bdc7-366042a99abb"
      },
      "execution_count": 49,
      "outputs": [
        {
          "output_type": "stream",
          "name": "stdout",
          "text": [
            "1/1 [==============================] - 0s 404ms/step - loss: 1.7000 - accuracy: 0.7143\n"
          ]
        },
        {
          "output_type": "execute_result",
          "data": {
            "text/plain": [
              "[1.7000499963760376, 0.7142857313156128]"
            ]
          },
          "metadata": {},
          "execution_count": 49
        }
      ]
    },
    {
      "cell_type": "code",
      "source": [
        "# Salvando o modelo completo\n",
        "model.save('models/meu_modelo.h5')\n",
        "\n",
        "# Salvando somente os melhores pesos\n",
        "model.save_weights('models/pesos_melhor_epoca.h5')"
      ],
      "metadata": {
        "colab": {
          "base_uri": "https://localhost:8080/"
        },
        "id": "cGlANIW-pMXH",
        "outputId": "ce3c869d-48d3-436e-ec67-066c89edd1d5"
      },
      "execution_count": 50,
      "outputs": [
        {
          "output_type": "stream",
          "name": "stderr",
          "text": [
            "You are saving your model as an HDF5 file via `model.save()`. This file format is considered legacy. We recommend using instead the native Keras format, e.g. `model.save('my_model.keras')`.\n"
          ]
        }
      ]
    }
  ]
}